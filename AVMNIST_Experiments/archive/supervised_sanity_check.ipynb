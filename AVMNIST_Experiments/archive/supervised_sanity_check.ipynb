{
 "cells": [
  {
   "cell_type": "markdown",
   "metadata": {},
   "source": [
    "#### Code for running a encoder in a supervised way, this way we can figure out if it's capable of learning before we use it for DINO purposes."
   ]
  },
  {
   "cell_type": "code",
   "execution_count": 23,
   "metadata": {},
   "outputs": [
    {
     "name": "stdout",
     "output_type": "stream",
     "text": [
      "The autoreload extension is already loaded. To reload it, use:\n",
      "  %reload_ext autoreload\n"
     ]
    }
   ],
   "source": [
    "%load_ext autoreload\n",
    "%autoreload 2\n",
    "import torch\n",
    "torch.manual_seed(0) # Set seed before importing other modules\n",
    "import numpy as np\n",
    "np.random.seed(0)\n",
    "import random\n",
    "random.seed(0)\n",
    "import sys\n",
    "import os\n",
    "import torch.nn as nn\n",
    "from utils.get_data import get_dataloader_augmented\n",
    "from training_structures.unimodal import train as unimodal_train, test as unimodal_test\n",
    "import torch.multiprocessing\n",
    "from models.dino import SpectrogramEncoderMobileViT\n",
    "# torch.multiprocessing.set_start_method('spawn')\n",
    "\n",
    "current_path = os.getcwd()\n",
    "sys.path.append(current_path)\n",
    "device = torch.device(\"cuda\" if torch.cuda.is_available() else \"cpu\")"
   ]
  },
  {
   "cell_type": "code",
   "execution_count": 24,
   "metadata": {},
   "outputs": [],
   "source": [
    "class Args_Unimodal:\n",
    "    def __init__(self):\n",
    "        self.criterion = nn.CrossEntropyLoss() # Loss function\n",
    "        self.use_cuda = torch.cuda.is_available()  # Use GPU if available\n",
    "        self.learning_rate = 0.001 # Initial learning rate\n",
    "        self.batch_size = 128       # Batch size\n",
    "        self.epochs = 10          # Total training epochs"
   ]
  },
  {
   "cell_type": "code",
   "execution_count": 25,
   "metadata": {},
   "outputs": [],
   "source": [
    "class SpectrogramModel(nn.Module):\n",
    "    def __init__(self, output_dim=256, num_classes = 10):\n",
    "        super().__init__()\n",
    "        self.encoder = SpectrogramEncoderMobileViT(output_dim=output_dim)\n",
    "        self.classifier = nn.Sequential(\n",
    "            nn.Linear(self.encoder.output_dim, 128),\n",
    "            nn.ReLU(),\n",
    "            nn.Dropout(p=0.3),                      # Dropout after ReLU\n",
    "            nn.Linear(128, num_classes)\n",
    "        )\n",
    "    def forward(self, spectrograms=None):\n",
    "        # Only use spectrograms, ignore images\n",
    "        if spectrograms is None:\n",
    "            raise ValueError(\"SpectrogramEncoder requires spectrogram input\")\n",
    "        features = self.encoder(images=None, spectrograms=spectrograms)\n",
    "        return self.classifier(features)"
   ]
  },
  {
   "cell_type": "code",
   "execution_count": 26,
   "metadata": {},
   "outputs": [
    {
     "name": "stderr",
     "output_type": "stream",
     "text": [
      "c:\\Users\\Ward\\anaconda3\\envs\\multibench\\Lib\\site-packages\\torchvision\\models\\_utils.py:208: UserWarning: The parameter 'pretrained' is deprecated since 0.13 and may be removed in the future, please use 'weights' instead.\n",
      "  warnings.warn(\n",
      "c:\\Users\\Ward\\anaconda3\\envs\\multibench\\Lib\\site-packages\\torchvision\\models\\_utils.py:223: UserWarning: Arguments other than a weight enum or `None` for 'weights' are deprecated since 0.13 and may be removed in the future. The current behavior is equivalent to passing `weights=None`.\n",
      "  warnings.warn(msg)\n"
     ]
    }
   ],
   "source": [
    "model = SpectrogramModel().to(device)\n",
    "modalnum = 1 # For audio encoder based model"
   ]
  },
  {
   "cell_type": "code",
   "execution_count": 27,
   "metadata": {},
   "outputs": [
    {
     "name": "stdout",
     "output_type": "stream",
     "text": [
      "Training with augmentation type: burst_noise\n",
      "Epoch 1/10, Loss: 1.1983\n",
      "Validation Loss: 3.2502, Accuracy: 10.40%\n",
      "Saving Best\n",
      "Epoch 2/10, Loss: 0.4739\n",
      "Validation Loss: 0.5017, Accuracy: 84.16%\n",
      "Saving Best\n",
      "Epoch 3/10, Loss: 0.3312\n",
      "Validation Loss: 0.3533, Accuracy: 88.80%\n",
      "Saving Best\n",
      "Epoch 4/10, Loss: 0.2611\n",
      "Validation Loss: 0.3746, Accuracy: 88.88%\n",
      "Saving Best\n",
      "Epoch 5/10, Loss: 0.2073\n",
      "Validation Loss: 0.3554, Accuracy: 88.80%\n",
      "Epoch 6/10, Loss: 0.1774\n",
      "Validation Loss: 0.3933, Accuracy: 89.38%\n",
      "Saving Best\n",
      "Epoch 7/10, Loss: 0.1528\n",
      "Validation Loss: 0.3295, Accuracy: 90.76%\n",
      "Saving Best\n",
      "Epoch 8/10, Loss: 0.1303\n",
      "Validation Loss: 0.4048, Accuracy: 89.68%\n",
      "Epoch 9/10, Loss: 0.1151\n",
      "Validation Loss: 0.2951, Accuracy: 91.70%\n",
      "Saving Best\n",
      "Epoch 10/10, Loss: 0.0973\n",
      "Validation Loss: 0.3152, Accuracy: 91.34%\n",
      "Training Complete!\n",
      "Testing with augmentation type: burst_noise\n"
     ]
    },
    {
     "name": "stderr",
     "output_type": "stream",
     "text": [
      "C:\\Users\\Ward\\AppData\\Local\\Temp\\ipykernel_9532\\610321031.py:29: FutureWarning: You are using `torch.load` with `weights_only=False` (the current default value), which uses the default pickle module implicitly. It is possible to construct malicious pickle data which will execute arbitrary code during unpickling (See https://github.com/pytorch/pytorch/blob/main/SECURITY.md#untrusted-models for more details). In a future release, the default value for `weights_only` will be flipped to `True`. This limits the functions that could be executed during unpickling. Arbitrary objects will no longer be allowed to be loaded via this mode unless they are explicitly allowlisted by the user via `torch.serialization.add_safe_globals`. We recommend you start setting `weights_only=True` for any use case where you don't have full control of the loaded file. Please open an issue on GitHub for any issues related to this experimental feature.\n",
      "  model= torch.load(model_name)\n"
     ]
    },
    {
     "name": "stdout",
     "output_type": "stream",
     "text": [
      "Test Loss: 0.4152, Test Accuracy: 88.83%\n"
     ]
    }
   ],
   "source": [
    "args_audio = Args_Unimodal()\n",
    "dir_train_logs = \"training_logs/audio/\"\n",
    "dir_test_logs = \"test_logs/audio/\"\n",
    "# if directory doesn't exist, make it:\n",
    "for path in [dir_train_logs, dir_test_logs]:\n",
    "    os.makedirs(os.path.dirname(path), exist_ok=True)\n",
    "\n",
    "for aug_type in [\n",
    "    # \"aliased\", \n",
    "    \"burst_noise\", \n",
    "    # \"distorted\", \n",
    "    # \"extreme_noise\", \n",
    "    # \"multi_band\"\n",
    "    ]:\n",
    "        \n",
    "    model_name = f'model_audio_augmented_{aug_type}_{model.encoder.__class__.__name__}.pt'\n",
    "    traindata,validdata,testdata = get_dataloader_augmented(f'{current_path}/data/avmnist', type=aug_type, batch_size=args_audio.batch_size)\n",
    "\n",
    "    log_file = f\"{dir_train_logs}training_log_audio_{aug_type}.csv\"\n",
    "    test_log_file = f\"{dir_test_logs}test_results_audio_{aug_type}.csv\"\n",
    "\n",
    "    print(f\"Training with augmentation type: {aug_type}\")\n",
    "    \n",
    "    model_name = unimodal_train(model, args_audio, traindata, device, modalnum=modalnum, val_loader=validdata, \n",
    "                    log_file=log_file, save_model=model_name)\n",
    "\n",
    "    print(f\"Testing with augmentation type: {aug_type}\")\n",
    "\n",
    "    model= torch.load(model_name)\n",
    "    _ = unimodal_test(model, testdata, args_audio.criterion, device, \n",
    "                      modalnum=modalnum, test_log_file=test_log_file)"
   ]
  }
 ],
 "metadata": {
  "kernelspec": {
   "display_name": "multibench",
   "language": "python",
   "name": "python3"
  },
  "language_info": {
   "codemirror_mode": {
    "name": "ipython",
    "version": 3
   },
   "file_extension": ".py",
   "mimetype": "text/x-python",
   "name": "python",
   "nbconvert_exporter": "python",
   "pygments_lexer": "ipython3",
   "version": "3.12.3"
  }
 },
 "nbformat": 4,
 "nbformat_minor": 2
}
